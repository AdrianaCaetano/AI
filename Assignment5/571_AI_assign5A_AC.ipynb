{
  "cells": [
    {
      "cell_type": "markdown",
      "metadata": {
        "id": "view-in-github",
        "colab_type": "text"
      },
      "source": [
        "<a href=\"https://colab.research.google.com/github/AdrianaCaetano/AI/blob/main/571_AI_assign5A_copy.ipynb\" target=\"_parent\"><img src=\"https://colab.research.google.com/assets/colab-badge.svg\" alt=\"Open In Colab\"/></a>"
      ]
    },
    {
      "cell_type": "markdown",
      "metadata": {
        "id": "vfMUSZ3qiyI8"
      },
      "source": [
        "# Assignment 5A - Linear Regression\n",
        "\n",
        "CS 571 AI - Prof Gutta - Spring 2022\n",
        "\n",
        "Project: Linear Regression for Diabetes Dataset\n",
        "\n",
        "\n",
        "Outputs are best seen in the colab notebook."
      ]
    },
    {
      "cell_type": "markdown",
      "source": [
        "# Step 1"
      ],
      "metadata": {
        "id": "sKMB7z7eQSny"
      }
    },
    {
      "cell_type": "markdown",
      "metadata": {
        "id": "-mwu9VH5LIhq"
      },
      "source": [
        "STEP 1 - Include a basic description of the data (what are the features and labels) \n",
        "\n",
        "The dataset can be downloaded from the Sklearn Toy Dataset section. In the website description, the diabetes dataset contains 10 baseline variables of 442 individuals, and the reponse of interest. \n",
        "\n",
        "Attributes or features in the diabetes dataset: \n",
        "\n",
        "1. age in years\n",
        "\n",
        "2. sex\n",
        "\n",
        "3. bmi body mass index\n",
        "\n",
        "4. bp average blood pressure\n",
        "\n",
        "5. s1 total serum cholesterol\n",
        "\n",
        "6. s2 low-density lipoproteins\n",
        "\n",
        "7. s3 high-density lipoproteins\n",
        "\n",
        "8. s4 total cholesterol / HDL\n",
        "\n",
        "9. s5 possibly log of serum triglycerides level\n",
        "\n",
        "10. s6 glu, blood sugar level\n",
        "\n",
        "Target or Label: a quantitative measure of disease progression one year after baseline\n",
        "\n",
        "\n",
        "Each of these 10 feature variables have been mean centered and scaled by the standard deviation times n_samples (i.e. the sum of squares of each column totals 1).\n",
        "\n",
        "\n",
        "\n"
      ]
    },
    {
      "cell_type": "code",
      "execution_count": null,
      "metadata": {
        "colab": {
          "base_uri": "https://localhost:8080/"
        },
        "id": "UOUPLks4KjmV",
        "outputId": "69078dfc-a14b-40c4-9794-360535bd879b"
      },
      "outputs": [
        {
          "output_type": "stream",
          "name": "stdout",
          "text": [
            "Number of samples: 442\n",
            "Number of features: 10\n",
            "Features:  ['age', 'sex', 'bmi', 'bp', 's1', 's2', 's3', 's4', 's5', 's6']\n"
          ]
        }
      ],
      "source": [
        "# import diabetes dataset using sklearn \n",
        "from sklearn.datasets import load_diabetes \n",
        "d_data = load_diabetes()\n",
        "\n",
        "# Get attributes /features \n",
        "X = d_data.data\n",
        "n_samples, n_features = X.shape\n",
        "\n",
        "# Print dataset size and attributes description\n",
        "print(\"Number of samples:\", n_samples)\n",
        "print(\"Number of features:\", n_features)\n",
        "print(\"Features: \", d_data.feature_names)\n",
        "\n",
        "# Get targets /labels\n",
        "y = d_data.target"
      ]
    },
    {
      "cell_type": "code",
      "execution_count": null,
      "metadata": {
        "colab": {
          "base_uri": "https://localhost:8080/",
          "height": 398
        },
        "id": "WWnC9wpcAZ6c",
        "outputId": "68408f79-a2a4-4cd3-a5ba-c7e5495136f7"
      },
      "outputs": [
        {
          "output_type": "stream",
          "name": "stdout",
          "text": [
            "\n",
            "The first 10 lines of diabetes dataset\n"
          ]
        },
        {
          "output_type": "execute_result",
          "data": {
            "text/plain": [
              "        age       sex       bmi        bp        s1        s2        s3  \\\n",
              "0  0.038076  0.050680  0.061696  0.021872 -0.044223 -0.034821 -0.043401   \n",
              "1 -0.001882 -0.044642 -0.051474 -0.026328 -0.008449 -0.019163  0.074412   \n",
              "2  0.085299  0.050680  0.044451 -0.005671 -0.045599 -0.034194 -0.032356   \n",
              "3 -0.089063 -0.044642 -0.011595 -0.036656  0.012191  0.024991 -0.036038   \n",
              "4  0.005383 -0.044642 -0.036385  0.021872  0.003935  0.015596  0.008142   \n",
              "5 -0.092695 -0.044642 -0.040696 -0.019442 -0.068991 -0.079288  0.041277   \n",
              "6 -0.045472  0.050680 -0.047163 -0.015999 -0.040096 -0.024800  0.000779   \n",
              "7  0.063504  0.050680 -0.001895  0.066630  0.090620  0.108914  0.022869   \n",
              "8  0.041708  0.050680  0.061696 -0.040099 -0.013953  0.006202 -0.028674   \n",
              "9 -0.070900 -0.044642  0.039062 -0.033214 -0.012577 -0.034508 -0.024993   \n",
              "\n",
              "         s4        s5        s6  Target  \n",
              "0 -0.002592  0.019908 -0.017646   151.0  \n",
              "1 -0.039493 -0.068330 -0.092204    75.0  \n",
              "2 -0.002592  0.002864 -0.025930   141.0  \n",
              "3  0.034309  0.022692 -0.009362   206.0  \n",
              "4 -0.002592 -0.031991 -0.046641   135.0  \n",
              "5 -0.076395 -0.041180 -0.096346    97.0  \n",
              "6 -0.039493 -0.062913 -0.038357   138.0  \n",
              "7  0.017703 -0.035817  0.003064    63.0  \n",
              "8 -0.002592 -0.014956  0.011349   110.0  \n",
              "9 -0.002592  0.067736 -0.013504   310.0  "
            ],
            "text/html": [
              "\n",
              "  <div id=\"df-c06b051e-86bd-4f0c-bf7a-15b51fe13f93\">\n",
              "    <div class=\"colab-df-container\">\n",
              "      <div>\n",
              "<style scoped>\n",
              "    .dataframe tbody tr th:only-of-type {\n",
              "        vertical-align: middle;\n",
              "    }\n",
              "\n",
              "    .dataframe tbody tr th {\n",
              "        vertical-align: top;\n",
              "    }\n",
              "\n",
              "    .dataframe thead th {\n",
              "        text-align: right;\n",
              "    }\n",
              "</style>\n",
              "<table border=\"1\" class=\"dataframe\">\n",
              "  <thead>\n",
              "    <tr style=\"text-align: right;\">\n",
              "      <th></th>\n",
              "      <th>age</th>\n",
              "      <th>sex</th>\n",
              "      <th>bmi</th>\n",
              "      <th>bp</th>\n",
              "      <th>s1</th>\n",
              "      <th>s2</th>\n",
              "      <th>s3</th>\n",
              "      <th>s4</th>\n",
              "      <th>s5</th>\n",
              "      <th>s6</th>\n",
              "      <th>Target</th>\n",
              "    </tr>\n",
              "  </thead>\n",
              "  <tbody>\n",
              "    <tr>\n",
              "      <th>0</th>\n",
              "      <td>0.038076</td>\n",
              "      <td>0.050680</td>\n",
              "      <td>0.061696</td>\n",
              "      <td>0.021872</td>\n",
              "      <td>-0.044223</td>\n",
              "      <td>-0.034821</td>\n",
              "      <td>-0.043401</td>\n",
              "      <td>-0.002592</td>\n",
              "      <td>0.019908</td>\n",
              "      <td>-0.017646</td>\n",
              "      <td>151.0</td>\n",
              "    </tr>\n",
              "    <tr>\n",
              "      <th>1</th>\n",
              "      <td>-0.001882</td>\n",
              "      <td>-0.044642</td>\n",
              "      <td>-0.051474</td>\n",
              "      <td>-0.026328</td>\n",
              "      <td>-0.008449</td>\n",
              "      <td>-0.019163</td>\n",
              "      <td>0.074412</td>\n",
              "      <td>-0.039493</td>\n",
              "      <td>-0.068330</td>\n",
              "      <td>-0.092204</td>\n",
              "      <td>75.0</td>\n",
              "    </tr>\n",
              "    <tr>\n",
              "      <th>2</th>\n",
              "      <td>0.085299</td>\n",
              "      <td>0.050680</td>\n",
              "      <td>0.044451</td>\n",
              "      <td>-0.005671</td>\n",
              "      <td>-0.045599</td>\n",
              "      <td>-0.034194</td>\n",
              "      <td>-0.032356</td>\n",
              "      <td>-0.002592</td>\n",
              "      <td>0.002864</td>\n",
              "      <td>-0.025930</td>\n",
              "      <td>141.0</td>\n",
              "    </tr>\n",
              "    <tr>\n",
              "      <th>3</th>\n",
              "      <td>-0.089063</td>\n",
              "      <td>-0.044642</td>\n",
              "      <td>-0.011595</td>\n",
              "      <td>-0.036656</td>\n",
              "      <td>0.012191</td>\n",
              "      <td>0.024991</td>\n",
              "      <td>-0.036038</td>\n",
              "      <td>0.034309</td>\n",
              "      <td>0.022692</td>\n",
              "      <td>-0.009362</td>\n",
              "      <td>206.0</td>\n",
              "    </tr>\n",
              "    <tr>\n",
              "      <th>4</th>\n",
              "      <td>0.005383</td>\n",
              "      <td>-0.044642</td>\n",
              "      <td>-0.036385</td>\n",
              "      <td>0.021872</td>\n",
              "      <td>0.003935</td>\n",
              "      <td>0.015596</td>\n",
              "      <td>0.008142</td>\n",
              "      <td>-0.002592</td>\n",
              "      <td>-0.031991</td>\n",
              "      <td>-0.046641</td>\n",
              "      <td>135.0</td>\n",
              "    </tr>\n",
              "    <tr>\n",
              "      <th>5</th>\n",
              "      <td>-0.092695</td>\n",
              "      <td>-0.044642</td>\n",
              "      <td>-0.040696</td>\n",
              "      <td>-0.019442</td>\n",
              "      <td>-0.068991</td>\n",
              "      <td>-0.079288</td>\n",
              "      <td>0.041277</td>\n",
              "      <td>-0.076395</td>\n",
              "      <td>-0.041180</td>\n",
              "      <td>-0.096346</td>\n",
              "      <td>97.0</td>\n",
              "    </tr>\n",
              "    <tr>\n",
              "      <th>6</th>\n",
              "      <td>-0.045472</td>\n",
              "      <td>0.050680</td>\n",
              "      <td>-0.047163</td>\n",
              "      <td>-0.015999</td>\n",
              "      <td>-0.040096</td>\n",
              "      <td>-0.024800</td>\n",
              "      <td>0.000779</td>\n",
              "      <td>-0.039493</td>\n",
              "      <td>-0.062913</td>\n",
              "      <td>-0.038357</td>\n",
              "      <td>138.0</td>\n",
              "    </tr>\n",
              "    <tr>\n",
              "      <th>7</th>\n",
              "      <td>0.063504</td>\n",
              "      <td>0.050680</td>\n",
              "      <td>-0.001895</td>\n",
              "      <td>0.066630</td>\n",
              "      <td>0.090620</td>\n",
              "      <td>0.108914</td>\n",
              "      <td>0.022869</td>\n",
              "      <td>0.017703</td>\n",
              "      <td>-0.035817</td>\n",
              "      <td>0.003064</td>\n",
              "      <td>63.0</td>\n",
              "    </tr>\n",
              "    <tr>\n",
              "      <th>8</th>\n",
              "      <td>0.041708</td>\n",
              "      <td>0.050680</td>\n",
              "      <td>0.061696</td>\n",
              "      <td>-0.040099</td>\n",
              "      <td>-0.013953</td>\n",
              "      <td>0.006202</td>\n",
              "      <td>-0.028674</td>\n",
              "      <td>-0.002592</td>\n",
              "      <td>-0.014956</td>\n",
              "      <td>0.011349</td>\n",
              "      <td>110.0</td>\n",
              "    </tr>\n",
              "    <tr>\n",
              "      <th>9</th>\n",
              "      <td>-0.070900</td>\n",
              "      <td>-0.044642</td>\n",
              "      <td>0.039062</td>\n",
              "      <td>-0.033214</td>\n",
              "      <td>-0.012577</td>\n",
              "      <td>-0.034508</td>\n",
              "      <td>-0.024993</td>\n",
              "      <td>-0.002592</td>\n",
              "      <td>0.067736</td>\n",
              "      <td>-0.013504</td>\n",
              "      <td>310.0</td>\n",
              "    </tr>\n",
              "  </tbody>\n",
              "</table>\n",
              "</div>\n",
              "      <button class=\"colab-df-convert\" onclick=\"convertToInteractive('df-c06b051e-86bd-4f0c-bf7a-15b51fe13f93')\"\n",
              "              title=\"Convert this dataframe to an interactive table.\"\n",
              "              style=\"display:none;\">\n",
              "        \n",
              "  <svg xmlns=\"http://www.w3.org/2000/svg\" height=\"24px\"viewBox=\"0 0 24 24\"\n",
              "       width=\"24px\">\n",
              "    <path d=\"M0 0h24v24H0V0z\" fill=\"none\"/>\n",
              "    <path d=\"M18.56 5.44l.94 2.06.94-2.06 2.06-.94-2.06-.94-.94-2.06-.94 2.06-2.06.94zm-11 1L8.5 8.5l.94-2.06 2.06-.94-2.06-.94L8.5 2.5l-.94 2.06-2.06.94zm10 10l.94 2.06.94-2.06 2.06-.94-2.06-.94-.94-2.06-.94 2.06-2.06.94z\"/><path d=\"M17.41 7.96l-1.37-1.37c-.4-.4-.92-.59-1.43-.59-.52 0-1.04.2-1.43.59L10.3 9.45l-7.72 7.72c-.78.78-.78 2.05 0 2.83L4 21.41c.39.39.9.59 1.41.59.51 0 1.02-.2 1.41-.59l7.78-7.78 2.81-2.81c.8-.78.8-2.07 0-2.86zM5.41 20L4 18.59l7.72-7.72 1.47 1.35L5.41 20z\"/>\n",
              "  </svg>\n",
              "      </button>\n",
              "      \n",
              "  <style>\n",
              "    .colab-df-container {\n",
              "      display:flex;\n",
              "      flex-wrap:wrap;\n",
              "      gap: 12px;\n",
              "    }\n",
              "\n",
              "    .colab-df-convert {\n",
              "      background-color: #E8F0FE;\n",
              "      border: none;\n",
              "      border-radius: 50%;\n",
              "      cursor: pointer;\n",
              "      display: none;\n",
              "      fill: #1967D2;\n",
              "      height: 32px;\n",
              "      padding: 0 0 0 0;\n",
              "      width: 32px;\n",
              "    }\n",
              "\n",
              "    .colab-df-convert:hover {\n",
              "      background-color: #E2EBFA;\n",
              "      box-shadow: 0px 1px 2px rgba(60, 64, 67, 0.3), 0px 1px 3px 1px rgba(60, 64, 67, 0.15);\n",
              "      fill: #174EA6;\n",
              "    }\n",
              "\n",
              "    [theme=dark] .colab-df-convert {\n",
              "      background-color: #3B4455;\n",
              "      fill: #D2E3FC;\n",
              "    }\n",
              "\n",
              "    [theme=dark] .colab-df-convert:hover {\n",
              "      background-color: #434B5C;\n",
              "      box-shadow: 0px 1px 3px 1px rgba(0, 0, 0, 0.15);\n",
              "      filter: drop-shadow(0px 1px 2px rgba(0, 0, 0, 0.3));\n",
              "      fill: #FFFFFF;\n",
              "    }\n",
              "  </style>\n",
              "\n",
              "      <script>\n",
              "        const buttonEl =\n",
              "          document.querySelector('#df-c06b051e-86bd-4f0c-bf7a-15b51fe13f93 button.colab-df-convert');\n",
              "        buttonEl.style.display =\n",
              "          google.colab.kernel.accessAllowed ? 'block' : 'none';\n",
              "\n",
              "        async function convertToInteractive(key) {\n",
              "          const element = document.querySelector('#df-c06b051e-86bd-4f0c-bf7a-15b51fe13f93');\n",
              "          const dataTable =\n",
              "            await google.colab.kernel.invokeFunction('convertToInteractive',\n",
              "                                                     [key], {});\n",
              "          if (!dataTable) return;\n",
              "\n",
              "          const docLinkHtml = 'Like what you see? Visit the ' +\n",
              "            '<a target=\"_blank\" href=https://colab.research.google.com/notebooks/data_table.ipynb>data table notebook</a>'\n",
              "            + ' to learn more about interactive tables.';\n",
              "          element.innerHTML = '';\n",
              "          dataTable['output_type'] = 'display_data';\n",
              "          await google.colab.output.renderOutput(dataTable, element);\n",
              "          const docLink = document.createElement('div');\n",
              "          docLink.innerHTML = docLinkHtml;\n",
              "          element.appendChild(docLink);\n",
              "        }\n",
              "      </script>\n",
              "    </div>\n",
              "  </div>\n",
              "  "
            ]
          },
          "metadata": {},
          "execution_count": 2
        }
      ],
      "source": [
        "#Use pandas dataframes to get familiar with the dataset\n",
        "\n",
        "import pandas as pd\n",
        "    \n",
        "diabetes_df = pd.DataFrame(d_data.data, columns=d_data.feature_names)\n",
        "diabetes_df[\"Target\"] = y\n",
        "\n",
        "print(\"\\nThe first 10 lines of diabetes dataset\")\n",
        "diabetes_df.head(10)\n"
      ]
    },
    {
      "cell_type": "code",
      "execution_count": null,
      "metadata": {
        "colab": {
          "base_uri": "https://localhost:8080/"
        },
        "id": "_pGbPkP0Ps3N",
        "outputId": "da54a387-1828-497b-836f-80d077fcb02d"
      },
      "outputs": [
        {
          "output_type": "stream",
          "name": "stdout",
          "text": [
            "diabetes dataset info\n",
            "<class 'pandas.core.frame.DataFrame'>\n",
            "RangeIndex: 442 entries, 0 to 441\n",
            "Data columns (total 11 columns):\n",
            " #   Column  Non-Null Count  Dtype  \n",
            "---  ------  --------------  -----  \n",
            " 0   age     442 non-null    float64\n",
            " 1   sex     442 non-null    float64\n",
            " 2   bmi     442 non-null    float64\n",
            " 3   bp      442 non-null    float64\n",
            " 4   s1      442 non-null    float64\n",
            " 5   s2      442 non-null    float64\n",
            " 6   s3      442 non-null    float64\n",
            " 7   s4      442 non-null    float64\n",
            " 8   s5      442 non-null    float64\n",
            " 9   s6      442 non-null    float64\n",
            " 10  Target  442 non-null    float64\n",
            "dtypes: float64(11)\n",
            "memory usage: 38.1 KB\n"
          ]
        }
      ],
      "source": [
        "print(\"diabetes dataset info\")\n",
        "diabetes_df.info()"
      ]
    },
    {
      "cell_type": "code",
      "execution_count": null,
      "metadata": {
        "colab": {
          "base_uri": "https://localhost:8080/",
          "height": 318
        },
        "id": "4I2y-n6iP5y-",
        "outputId": "741c50e7-e2eb-4535-d753-aa8a5efa069a"
      },
      "outputs": [
        {
          "output_type": "stream",
          "name": "stdout",
          "text": [
            "diabetes dataset stats\n"
          ]
        },
        {
          "output_type": "execute_result",
          "data": {
            "text/plain": [
              "                age           sex           bmi            bp            s1  \\\n",
              "count  4.420000e+02  4.420000e+02  4.420000e+02  4.420000e+02  4.420000e+02   \n",
              "mean  -3.634285e-16  1.308343e-16 -8.045349e-16  1.281655e-16 -8.835316e-17   \n",
              "std    4.761905e-02  4.761905e-02  4.761905e-02  4.761905e-02  4.761905e-02   \n",
              "min   -1.072256e-01 -4.464164e-02 -9.027530e-02 -1.123996e-01 -1.267807e-01   \n",
              "25%   -3.729927e-02 -4.464164e-02 -3.422907e-02 -3.665645e-02 -3.424784e-02   \n",
              "50%    5.383060e-03 -4.464164e-02 -7.283766e-03 -5.670611e-03 -4.320866e-03   \n",
              "75%    3.807591e-02  5.068012e-02  3.124802e-02  3.564384e-02  2.835801e-02   \n",
              "max    1.107267e-01  5.068012e-02  1.705552e-01  1.320442e-01  1.539137e-01   \n",
              "\n",
              "                 s2            s3            s4            s5            s6  \\\n",
              "count  4.420000e+02  4.420000e+02  4.420000e+02  4.420000e+02  4.420000e+02   \n",
              "mean   1.327024e-16 -4.574646e-16  3.777301e-16 -3.830854e-16 -3.412882e-16   \n",
              "std    4.761905e-02  4.761905e-02  4.761905e-02  4.761905e-02  4.761905e-02   \n",
              "min   -1.156131e-01 -1.023071e-01 -7.639450e-02 -1.260974e-01 -1.377672e-01   \n",
              "25%   -3.035840e-02 -3.511716e-02 -3.949338e-02 -3.324879e-02 -3.317903e-02   \n",
              "50%   -3.819065e-03 -6.584468e-03 -2.592262e-03 -1.947634e-03 -1.077698e-03   \n",
              "75%    2.984439e-02  2.931150e-02  3.430886e-02  3.243323e-02  2.791705e-02   \n",
              "max    1.987880e-01  1.811791e-01  1.852344e-01  1.335990e-01  1.356118e-01   \n",
              "\n",
              "           Target  \n",
              "count  442.000000  \n",
              "mean   152.133484  \n",
              "std     77.093005  \n",
              "min     25.000000  \n",
              "25%     87.000000  \n",
              "50%    140.500000  \n",
              "75%    211.500000  \n",
              "max    346.000000  "
            ],
            "text/html": [
              "\n",
              "  <div id=\"df-699e0b44-3aa1-41f4-98fe-62ed1f036c44\">\n",
              "    <div class=\"colab-df-container\">\n",
              "      <div>\n",
              "<style scoped>\n",
              "    .dataframe tbody tr th:only-of-type {\n",
              "        vertical-align: middle;\n",
              "    }\n",
              "\n",
              "    .dataframe tbody tr th {\n",
              "        vertical-align: top;\n",
              "    }\n",
              "\n",
              "    .dataframe thead th {\n",
              "        text-align: right;\n",
              "    }\n",
              "</style>\n",
              "<table border=\"1\" class=\"dataframe\">\n",
              "  <thead>\n",
              "    <tr style=\"text-align: right;\">\n",
              "      <th></th>\n",
              "      <th>age</th>\n",
              "      <th>sex</th>\n",
              "      <th>bmi</th>\n",
              "      <th>bp</th>\n",
              "      <th>s1</th>\n",
              "      <th>s2</th>\n",
              "      <th>s3</th>\n",
              "      <th>s4</th>\n",
              "      <th>s5</th>\n",
              "      <th>s6</th>\n",
              "      <th>Target</th>\n",
              "    </tr>\n",
              "  </thead>\n",
              "  <tbody>\n",
              "    <tr>\n",
              "      <th>count</th>\n",
              "      <td>4.420000e+02</td>\n",
              "      <td>4.420000e+02</td>\n",
              "      <td>4.420000e+02</td>\n",
              "      <td>4.420000e+02</td>\n",
              "      <td>4.420000e+02</td>\n",
              "      <td>4.420000e+02</td>\n",
              "      <td>4.420000e+02</td>\n",
              "      <td>4.420000e+02</td>\n",
              "      <td>4.420000e+02</td>\n",
              "      <td>4.420000e+02</td>\n",
              "      <td>442.000000</td>\n",
              "    </tr>\n",
              "    <tr>\n",
              "      <th>mean</th>\n",
              "      <td>-3.634285e-16</td>\n",
              "      <td>1.308343e-16</td>\n",
              "      <td>-8.045349e-16</td>\n",
              "      <td>1.281655e-16</td>\n",
              "      <td>-8.835316e-17</td>\n",
              "      <td>1.327024e-16</td>\n",
              "      <td>-4.574646e-16</td>\n",
              "      <td>3.777301e-16</td>\n",
              "      <td>-3.830854e-16</td>\n",
              "      <td>-3.412882e-16</td>\n",
              "      <td>152.133484</td>\n",
              "    </tr>\n",
              "    <tr>\n",
              "      <th>std</th>\n",
              "      <td>4.761905e-02</td>\n",
              "      <td>4.761905e-02</td>\n",
              "      <td>4.761905e-02</td>\n",
              "      <td>4.761905e-02</td>\n",
              "      <td>4.761905e-02</td>\n",
              "      <td>4.761905e-02</td>\n",
              "      <td>4.761905e-02</td>\n",
              "      <td>4.761905e-02</td>\n",
              "      <td>4.761905e-02</td>\n",
              "      <td>4.761905e-02</td>\n",
              "      <td>77.093005</td>\n",
              "    </tr>\n",
              "    <tr>\n",
              "      <th>min</th>\n",
              "      <td>-1.072256e-01</td>\n",
              "      <td>-4.464164e-02</td>\n",
              "      <td>-9.027530e-02</td>\n",
              "      <td>-1.123996e-01</td>\n",
              "      <td>-1.267807e-01</td>\n",
              "      <td>-1.156131e-01</td>\n",
              "      <td>-1.023071e-01</td>\n",
              "      <td>-7.639450e-02</td>\n",
              "      <td>-1.260974e-01</td>\n",
              "      <td>-1.377672e-01</td>\n",
              "      <td>25.000000</td>\n",
              "    </tr>\n",
              "    <tr>\n",
              "      <th>25%</th>\n",
              "      <td>-3.729927e-02</td>\n",
              "      <td>-4.464164e-02</td>\n",
              "      <td>-3.422907e-02</td>\n",
              "      <td>-3.665645e-02</td>\n",
              "      <td>-3.424784e-02</td>\n",
              "      <td>-3.035840e-02</td>\n",
              "      <td>-3.511716e-02</td>\n",
              "      <td>-3.949338e-02</td>\n",
              "      <td>-3.324879e-02</td>\n",
              "      <td>-3.317903e-02</td>\n",
              "      <td>87.000000</td>\n",
              "    </tr>\n",
              "    <tr>\n",
              "      <th>50%</th>\n",
              "      <td>5.383060e-03</td>\n",
              "      <td>-4.464164e-02</td>\n",
              "      <td>-7.283766e-03</td>\n",
              "      <td>-5.670611e-03</td>\n",
              "      <td>-4.320866e-03</td>\n",
              "      <td>-3.819065e-03</td>\n",
              "      <td>-6.584468e-03</td>\n",
              "      <td>-2.592262e-03</td>\n",
              "      <td>-1.947634e-03</td>\n",
              "      <td>-1.077698e-03</td>\n",
              "      <td>140.500000</td>\n",
              "    </tr>\n",
              "    <tr>\n",
              "      <th>75%</th>\n",
              "      <td>3.807591e-02</td>\n",
              "      <td>5.068012e-02</td>\n",
              "      <td>3.124802e-02</td>\n",
              "      <td>3.564384e-02</td>\n",
              "      <td>2.835801e-02</td>\n",
              "      <td>2.984439e-02</td>\n",
              "      <td>2.931150e-02</td>\n",
              "      <td>3.430886e-02</td>\n",
              "      <td>3.243323e-02</td>\n",
              "      <td>2.791705e-02</td>\n",
              "      <td>211.500000</td>\n",
              "    </tr>\n",
              "    <tr>\n",
              "      <th>max</th>\n",
              "      <td>1.107267e-01</td>\n",
              "      <td>5.068012e-02</td>\n",
              "      <td>1.705552e-01</td>\n",
              "      <td>1.320442e-01</td>\n",
              "      <td>1.539137e-01</td>\n",
              "      <td>1.987880e-01</td>\n",
              "      <td>1.811791e-01</td>\n",
              "      <td>1.852344e-01</td>\n",
              "      <td>1.335990e-01</td>\n",
              "      <td>1.356118e-01</td>\n",
              "      <td>346.000000</td>\n",
              "    </tr>\n",
              "  </tbody>\n",
              "</table>\n",
              "</div>\n",
              "      <button class=\"colab-df-convert\" onclick=\"convertToInteractive('df-699e0b44-3aa1-41f4-98fe-62ed1f036c44')\"\n",
              "              title=\"Convert this dataframe to an interactive table.\"\n",
              "              style=\"display:none;\">\n",
              "        \n",
              "  <svg xmlns=\"http://www.w3.org/2000/svg\" height=\"24px\"viewBox=\"0 0 24 24\"\n",
              "       width=\"24px\">\n",
              "    <path d=\"M0 0h24v24H0V0z\" fill=\"none\"/>\n",
              "    <path d=\"M18.56 5.44l.94 2.06.94-2.06 2.06-.94-2.06-.94-.94-2.06-.94 2.06-2.06.94zm-11 1L8.5 8.5l.94-2.06 2.06-.94-2.06-.94L8.5 2.5l-.94 2.06-2.06.94zm10 10l.94 2.06.94-2.06 2.06-.94-2.06-.94-.94-2.06-.94 2.06-2.06.94z\"/><path d=\"M17.41 7.96l-1.37-1.37c-.4-.4-.92-.59-1.43-.59-.52 0-1.04.2-1.43.59L10.3 9.45l-7.72 7.72c-.78.78-.78 2.05 0 2.83L4 21.41c.39.39.9.59 1.41.59.51 0 1.02-.2 1.41-.59l7.78-7.78 2.81-2.81c.8-.78.8-2.07 0-2.86zM5.41 20L4 18.59l7.72-7.72 1.47 1.35L5.41 20z\"/>\n",
              "  </svg>\n",
              "      </button>\n",
              "      \n",
              "  <style>\n",
              "    .colab-df-container {\n",
              "      display:flex;\n",
              "      flex-wrap:wrap;\n",
              "      gap: 12px;\n",
              "    }\n",
              "\n",
              "    .colab-df-convert {\n",
              "      background-color: #E8F0FE;\n",
              "      border: none;\n",
              "      border-radius: 50%;\n",
              "      cursor: pointer;\n",
              "      display: none;\n",
              "      fill: #1967D2;\n",
              "      height: 32px;\n",
              "      padding: 0 0 0 0;\n",
              "      width: 32px;\n",
              "    }\n",
              "\n",
              "    .colab-df-convert:hover {\n",
              "      background-color: #E2EBFA;\n",
              "      box-shadow: 0px 1px 2px rgba(60, 64, 67, 0.3), 0px 1px 3px 1px rgba(60, 64, 67, 0.15);\n",
              "      fill: #174EA6;\n",
              "    }\n",
              "\n",
              "    [theme=dark] .colab-df-convert {\n",
              "      background-color: #3B4455;\n",
              "      fill: #D2E3FC;\n",
              "    }\n",
              "\n",
              "    [theme=dark] .colab-df-convert:hover {\n",
              "      background-color: #434B5C;\n",
              "      box-shadow: 0px 1px 3px 1px rgba(0, 0, 0, 0.15);\n",
              "      filter: drop-shadow(0px 1px 2px rgba(0, 0, 0, 0.3));\n",
              "      fill: #FFFFFF;\n",
              "    }\n",
              "  </style>\n",
              "\n",
              "      <script>\n",
              "        const buttonEl =\n",
              "          document.querySelector('#df-699e0b44-3aa1-41f4-98fe-62ed1f036c44 button.colab-df-convert');\n",
              "        buttonEl.style.display =\n",
              "          google.colab.kernel.accessAllowed ? 'block' : 'none';\n",
              "\n",
              "        async function convertToInteractive(key) {\n",
              "          const element = document.querySelector('#df-699e0b44-3aa1-41f4-98fe-62ed1f036c44');\n",
              "          const dataTable =\n",
              "            await google.colab.kernel.invokeFunction('convertToInteractive',\n",
              "                                                     [key], {});\n",
              "          if (!dataTable) return;\n",
              "\n",
              "          const docLinkHtml = 'Like what you see? Visit the ' +\n",
              "            '<a target=\"_blank\" href=https://colab.research.google.com/notebooks/data_table.ipynb>data table notebook</a>'\n",
              "            + ' to learn more about interactive tables.';\n",
              "          element.innerHTML = '';\n",
              "          dataTable['output_type'] = 'display_data';\n",
              "          await google.colab.output.renderOutput(dataTable, element);\n",
              "          const docLink = document.createElement('div');\n",
              "          docLink.innerHTML = docLinkHtml;\n",
              "          element.appendChild(docLink);\n",
              "        }\n",
              "      </script>\n",
              "    </div>\n",
              "  </div>\n",
              "  "
            ]
          },
          "metadata": {},
          "execution_count": 4
        }
      ],
      "source": [
        "print(\"diabetes dataset stats\")\n",
        "diabetes_df.describe()"
      ]
    },
    {
      "cell_type": "code",
      "execution_count": null,
      "metadata": {
        "colab": {
          "base_uri": "https://localhost:8080/"
        },
        "id": "3mZMzh0xQGgQ",
        "outputId": "e2ef3abd-256e-488f-d0bc-7d004703bcda"
      },
      "outputs": [
        {
          "output_type": "stream",
          "name": "stdout",
          "text": [
            "\n",
            "Missing values:\n",
            " age       0\n",
            "sex       0\n",
            "bmi       0\n",
            "bp        0\n",
            "s1        0\n",
            "s2        0\n",
            "s3        0\n",
            "s4        0\n",
            "s5        0\n",
            "s6        0\n",
            "Target    0\n",
            "dtype: int64\n"
          ]
        }
      ],
      "source": [
        "print(\"\\nMissing values:\\n\", diabetes_df.isnull().sum())"
      ]
    },
    {
      "cell_type": "markdown",
      "metadata": {
        "id": "pXVRIsmlMynv"
      },
      "source": [
        "From the tables we can see that the dataset is complete and has no missing values on any of the 10 attributes."
      ]
    },
    {
      "cell_type": "code",
      "execution_count": null,
      "metadata": {
        "colab": {
          "base_uri": "https://localhost:8080/",
          "height": 726
        },
        "id": "ooXBxOM2C7LZ",
        "outputId": "1e6a7735-ca4a-4944-8df9-9e6cc33c7bd0"
      },
      "outputs": [
        {
          "output_type": "stream",
          "name": "stdout",
          "text": [
            "Heatmap\n",
            "The linear correlation in between attributes and target, and in between themselves\n"
          ]
        },
        {
          "output_type": "display_data",
          "data": {
            "text/plain": [
              "<Figure size 720x360 with 2 Axes>"
            ],
            "image/png": "[encoded data removed]"
          },
          "metadata": {}
        },
        {
          "output_type": "execute_result",
          "data": {
            "text/plain": [
              "<seaborn.axisgrid.FacetGrid at 0x7fdda997e590>"
            ]
          },
          "metadata": {},
          "execution_count": 6
        },
        {
          "output_type": "display_data",
          "data": {
            "text/plain": [
              "<Figure size 360x360 with 1 Axes>"
            ],
            "image/png": "[encoded data removed]"
          },
          "metadata": {}
        }
      ],
      "source": [
        "import seaborn as sns\n",
        "import matplotlib.pyplot as plt\n",
        "\n",
        "sns.set(style=\"dark\", color_codes=True)\n",
        "\n",
        "#Visualize the dataset with 1 feature using histograms or with 2 features using scaterplot\n",
        "#sns.pairplot(diabetes_df, hue=\"Target\", height=4, diag_kind=\"kde\", corner=True)\n",
        "#plt.show()\n",
        "\n",
        "# heatmap \n",
        "print(\"Heatmap\\nThe linear correlation in between attributes and target, and in between themselves\")\n",
        "plt.figure(figsize = (10,5))\n",
        "sns.heatmap(diabetes_df.corr(), annot = True, cmap=\"rainbow\")\n",
        "plt.show()\n",
        "\n",
        "# clusterplot\n",
        "#g = sns.clustermap(diabetes_df)\n",
        "\n",
        "# Analytics \n",
        "sns.displot(diabetes_df['Target'])"
      ]
    },
    {
      "cell_type": "markdown",
      "source": [
        "# Step 2"
      ],
      "metadata": {
        "id": "ux_xogtRQY9v"
      }
    },
    {
      "cell_type": "markdown",
      "metadata": {
        "id": "95gYWiNuLnrd"
      },
      "source": [
        "STEP 2 - Split data into training and testing sets"
      ]
    },
    {
      "cell_type": "code",
      "execution_count": null,
      "metadata": {
        "id": "C056PnbiLvGS",
        "outputId": "6b7d30a1-7f28-480b-b86e-dfc3746b8d7b",
        "colab": {
          "base_uri": "https://localhost:8080/"
        }
      },
      "outputs": [
        {
          "output_type": "stream",
          "name": "stdout",
          "text": [
            "Train dataset: (309, 10)\n",
            "Test dataset: (133, 10)\n"
          ]
        }
      ],
      "source": [
        "# import diabetes dataset using sklearn \n",
        "from sklearn.datasets import load_diabetes\n",
        "from sklearn.model_selection import train_test_split\n",
        "diabetes = load_diabetes()\n",
        "X = diabetes.data\n",
        "Y = diabetes.target\n",
        "\n",
        "# Split the dataset into train and test \n",
        "X_train, X_test, y_train, y_test = train_test_split(X, Y, test_size = 0.3, random_state = 100) \n",
        "# define random_state to avoid a different random value, and subsequently avoid a different dataset split, each time we run the program \n",
        "\n",
        "print(\"Train dataset:\", X_train.shape)\n",
        "print(\"Test dataset:\", X_test.shape)"
      ]
    },
    {
      "cell_type": "markdown",
      "source": [
        "# Step 3\n"
      ],
      "metadata": {
        "id": "wa3rpgNjQdq2"
      }
    },
    {
      "cell_type": "markdown",
      "metadata": {
        "id": "AZmNCGNYLvcO"
      },
      "source": [
        "STEP 3 - Perform pre-processing if necessary.\n",
        "\n",
        "On analysis, we have seen that there is no missing data and all the data have conistent formats and values. Also, as seen in the data description each of the 10 feature variables have been mean centered and scaled by the standard deviation times n_samples. Therefore, preprocessing is not required."
      ]
    },
    {
      "cell_type": "markdown",
      "source": [
        "# Step 4"
      ],
      "metadata": {
        "id": "MezkOxv0Qfc7"
      }
    },
    {
      "cell_type": "markdown",
      "source": [
        "STEP 4 -Fit the linear regression on the training dataset."
      ],
      "metadata": {
        "id": "SU61YKF6Z14Y"
      }
    },
    {
      "cell_type": "code",
      "execution_count": null,
      "metadata": {
        "id": "c84u75OeL0l5",
        "colab": {
          "base_uri": "https://localhost:8080/"
        },
        "outputId": "c162185c-b771-4d6f-a353-7ecf74ee6a08"
      },
      "outputs": [
        {
          "output_type": "stream",
          "name": "stdout",
          "text": [
            "coefficient of determination or r2_score: 0.517904977023855\n",
            "root mean squared error: 54.48342413858927\n",
            "mean absolute error: 44.08712596343271\n"
          ]
        }
      ],
      "source": [
        "from sklearn.linear_model import LinearRegression\n",
        "from sklearn.model_selection import KFold, cross_val_score\n",
        "import numpy as np\n",
        "from sklearn.metrics import mean_squared_error,r2_score,mean_absolute_error\n",
        "\n",
        "# create the Linear Regression model (default)\n",
        "reg = LinearRegression()  \n",
        "reg.fit(X_train, y_train)\n",
        "y_pred = reg.predict(X_train)\n",
        "score=r2_score(y_train, y_pred)\n",
        "mse = mean_squared_error(y_train, y_pred)\n",
        "rmse = np.sqrt(mse)\n",
        "mae = mean_absolute_error(y_train, y_pred)\n",
        "print('coefficient of determination or r2_score:', score)\n",
        "print('root mean squared error:', rmse) \n",
        "print('mean absolute error:', mae) "
      ]
    },
    {
      "cell_type": "markdown",
      "source": [
        "# Step 5\n"
      ],
      "metadata": {
        "id": "A7pyeHr6Qhp5"
      }
    },
    {
      "cell_type": "markdown",
      "metadata": {
        "id": "hs49gOxoL09X"
      },
      "source": [
        "STEP 5 - Tune hyperparameters (if any) based on the performance on the validation set or using cross-validation. Plot the hyperparameter value on the x-axis and performance metric on the y-axis\n"
      ]
    },
    {
      "cell_type": "markdown",
      "source": [
        "There are no hyperparameters to tune for linear regression. However, let's try fitting the dataset using kFold cross validation and check if there is any improvement in the model. We will also try out few parameters fit_intercept and normalize."
      ],
      "metadata": {
        "id": "pNeNTQ4cVZaB"
      }
    },
    {
      "cell_type": "code",
      "execution_count": null,
      "metadata": {
        "id": "hzC7iRGtMNLl",
        "colab": {
          "base_uri": "https://localhost:8080/"
        },
        "outputId": "37695bc1-82ea-4f93-fad5-e1263ce7ed23"
      },
      "outputs": [
        {
          "output_type": "stream",
          "name": "stdout",
          "text": [
            "+-------+-------------------------+------------------------------+---------------------+\n",
            "| kFold | root mean squared error | coefficient of determination | mean absolute error |\n",
            "+-------+-------------------------+------------------------------+---------------------+\n",
            "|   2   |    58.58616552062358    |     0.42929794174243663      |  47.967873647962094 |\n",
            "|   3   |    56.64163023453738    |     0.46458683562026093      |  46.26849939629469  |\n",
            "|   4   |    56.22974400513495    |     0.46747327509056213      |  45.618721040195574 |\n",
            "|   5   |    56.366544104999605   |      0.4557713283822203      |  45.693036010812236 |\n",
            "|   6   |    55.89470290011658    |      0.4640185151810324      |  45.51438523307931  |\n",
            "|   7   |    56.73710274069986    |     0.44363577850655866      |  46.31398527011962  |\n",
            "|   8   |    56.14936900893552    |      0.444452837306928       |  45.887392388206386 |\n",
            "|   9   |    56.015403562691645   |     0.44787643026971463      |  45.72339747655775  |\n",
            "|   10  |     55.8453103740487    |      0.4417813724061202      |  45.53606568324531  |\n",
            "+-------+-------------------------+------------------------------+---------------------+\n",
            "+---------------------+-------------------------+------------------------------+---------------------+\n",
            "|      parameter      | root mean squared error | coefficient of determination | mean absolute error |\n",
            "+---------------------+-------------------------+------------------------------+---------------------+\n",
            "| fit_intercept=False |    162.68475766427935   |      -3.298308566640448      |  152.9009261795132  |\n",
            "|    normalize=True   |    54.48342413858927    |      0.517904977023855       |  44.08712596343271  |\n",
            "+---------------------+-------------------------+------------------------------+---------------------+\n"
          ]
        },
        {
          "output_type": "stream",
          "name": "stderr",
          "text": [
            "/usr/local/lib/python3.7/dist-packages/sklearn/linear_model/_base.py:145: FutureWarning: 'normalize' was deprecated in version 1.0 and will be removed in 1.2.\n",
            "If you wish to scale the data, use Pipeline with a StandardScaler in a preprocessing stage. To reproduce the previous behavior:\n",
            "\n",
            "from sklearn.pipeline import make_pipeline\n",
            "\n",
            "model = make_pipeline(StandardScaler(with_mean=False), LinearRegression())\n",
            "\n",
            "If you wish to pass a sample_weight parameter, you need to pass it as a fit parameter to each step of the pipeline as follows:\n",
            "\n",
            "kwargs = {s[0] + '__sample_weight': sample_weight for s in model.steps}\n",
            "model.fit(X, y, **kwargs)\n",
            "\n",
            "\n",
            "  FutureWarning,\n"
          ]
        }
      ],
      "source": [
        "import matplotlib.pyplot as plt\n",
        "from prettytable import PrettyTable\n",
        "\n",
        "t = PrettyTable(['kFold', 'root mean squared error','coefficient of determination','mean absolute error'])\n",
        "# Evaluate the models for different k folds on cross validation\n",
        "for n in range (2, 11):\n",
        "  # Prepare the k-fold cross validation\n",
        "  kf = KFold(random_state=10, shuffle=True, n_splits= n) # random_state= an int for reproducible output across multiple function calls\n",
        "  score1 = np.sqrt(-1*cross_val_score(reg, X_train, y_train, scoring='neg_mean_squared_error', cv=kf, n_jobs=-1))\n",
        "  score2 = cross_val_score(reg, X_train, y_train, scoring='r2', cv=kf, n_jobs=-1)\n",
        "  score3 = -1*cross_val_score(reg, X_train, y_train, scoring='neg_mean_absolute_error', cv=kf, n_jobs=-1)\n",
        "  t.add_row([n,np.mean(score1),np.mean(score2),np.mean(score3)])\n",
        "print(t)\n",
        "\n",
        "t1 = PrettyTable(['parameter', 'root mean squared error','coefficient of determination','mean absolute error'])\n",
        "# create the Linear Regression model with fit_intercept=False\n",
        "reg1 = LinearRegression(fit_intercept=False)  \n",
        "reg1.fit(X_train, y_train)\n",
        "y_pred1 = reg1.predict(X_train)\n",
        "score1=r2_score(y_train, y_pred1)\n",
        "mse1 = mean_squared_error(y_train, y_pred1)\n",
        "rmse1 = np.sqrt(mse1)\n",
        "mae1 = mean_absolute_error(y_train, y_pred1)\n",
        "t1.add_row(['fit_intercept=False',rmse1,score1,mae1])\n",
        "\n",
        "# create the Linear Regression model with normalize=True\n",
        "reg2 = LinearRegression(normalize=True)  \n",
        "reg2.fit(X_train, y_train)\n",
        "y_pred2 = reg2.predict(X_train)\n",
        "score2=r2_score(y_train, y_pred2)\n",
        "mse2 = mean_squared_error(y_train, y_pred2)\n",
        "rmse2 = np.sqrt(mse2)\n",
        "mae2 = mean_absolute_error(y_train, y_pred2)\n",
        "t1.add_row(['normalize=True',rmse2,score2,mae2])\n",
        "\n",
        "print(t1)"
      ]
    },
    {
      "cell_type": "markdown",
      "metadata": {
        "id": "wCWYzZrd_8Ud"
      },
      "source": [
        "Based on the results of the tests above, we see there is no improvement. Since there are no hyperparameters, we do not have plots.\n",
        "\n",
        "Lets try feature selection now:"
      ]
    },
    {
      "cell_type": "code",
      "execution_count": null,
      "metadata": {
        "colab": {
          "base_uri": "https://localhost:8080/"
        },
        "id": "RmovBBJeDABY",
        "outputId": "b0ac0154-d9ab-4c73-efa5-7f456a000455"
      },
      "outputs": [
        {
          "output_type": "stream",
          "name": "stdout",
          "text": [
            "+--------------------+-------------------------+------------------------------+---------------------+\n",
            "| number of features | root mean squared error | coefficient of determination | mean absolute error |\n",
            "+--------------------+-------------------------+------------------------------+---------------------+\n",
            "|         1          |    63.596821381475905   |      0.3431371813669879      |  53.443745381141206 |\n",
            "|         2          |     57.5294902651246    |     0.46249202537173373      |  47.543400124474616 |\n",
            "|         3          |    56.58505939494294    |     0.47999512862886373      |  46.165968866116856 |\n",
            "|         4          |    55.42383077646352    |      0.5011190277346176      |  45.20523969254323  |\n",
            "|         5          |    55.265824699331496   |      0.5039594616296521      |  44.966818300095476 |\n",
            "|         6          |    54.60678010989971    |      0.5157194821503959      |  44.082640579316475 |\n",
            "|         7          |    54.580902967053824   |      0.5161783565546176      |  44.05568204882511  |\n",
            "|         8          |    54.53085339886675    |      0.5170652587735136      |  44.03279745474693  |\n",
            "|         9          |    54.49386589070965    |      0.5177201722255798      |  44.06616897749539  |\n",
            "|         10         |    54.48342413858927    |      0.517904977023855       |  44.08712596343271  |\n",
            "+--------------------+-------------------------+------------------------------+---------------------+\n"
          ]
        }
      ],
      "source": [
        "from sklearn.feature_selection import RFE\n",
        "\n",
        "t = PrettyTable(['number of features', 'root mean squared error','coefficient of determination','mean absolute error'])\n",
        "# Evaluate the models for n different features\n",
        "for n in range (1,11):\n",
        "  s = RFE(reg, n_features_to_select=n)\n",
        "  s = s.fit(X_train, y_train)\n",
        "  y_pred3 = s.predict(X_train)\n",
        "  score3=r2_score(y_train, y_pred3)\n",
        "  mse3 = mean_squared_error(y_train, y_pred3)\n",
        "  rmse3 = np.sqrt(mse3)\n",
        "  mae3 = mean_absolute_error(y_train, y_pred3)\n",
        "  t.add_row([n,rmse3,score3,mae3])\n",
        "print(t)"
      ]
    },
    {
      "cell_type": "markdown",
      "source": [
        "So we see again that we get the best result when all 10 features are selected. So we will select the default model."
      ],
      "metadata": {
        "id": "yxfpUR6dc9Rw"
      }
    },
    {
      "cell_type": "markdown",
      "source": [
        "# Step 6\n"
      ],
      "metadata": {
        "id": "OEZmD7wSQkJD"
      }
    },
    {
      "cell_type": "markdown",
      "metadata": {
        "id": "uSu6wwFuMNmT"
      },
      "source": [
        "STEP 6 - Evaluate the model on test data and generate a performance report \n",
        "\n",
        "\n",
        "There are 3 metrics we used for model evaluation in linear regression:\n",
        "\n",
        "\n",
        "1.   R Square or Co-efficient of determination\n",
        "2.   Root Mean Square Error(RMSE)\n",
        "3.   Mean Absolute Error(MAE)\n",
        "\n",
        "\n",
        "  \n",
        "  \n",
        "\n",
        "\n",
        "\n",
        "\n",
        "\n",
        "\n",
        "\n",
        "\n",
        "\n",
        "\n"
      ]
    },
    {
      "cell_type": "code",
      "execution_count": null,
      "metadata": {
        "id": "YDXdBdKgMmMh",
        "colab": {
          "base_uri": "https://localhost:8080/"
        },
        "outputId": "8fbdef84-2d3e-4738-f9e4-31d37b3fd734"
      },
      "outputs": [
        {
          "output_type": "stream",
          "name": "stdout",
          "text": [
            "coefficient of determination:  0.4929329680070461\n",
            "root mean squared error: 51.83774341914193\n"
          ]
        }
      ],
      "source": [
        "y_pred = reg.predict(X_test)\n",
        "score=r2_score(y_test, y_pred)\n",
        "mse = mean_squared_error(y_test, y_pred)\n",
        "rmse = np.sqrt(mse)\n",
        "mae = mean_absolute_error(y_test, y_pred)\n",
        "print('coefficient of determination: ',score)\n",
        "print('root mean squared error:', rmse)\n",
        "print('mean absolute error:', mae) \n"
      ]
    },
    {
      "cell_type": "markdown",
      "source": [
        "Since there were no hyperparameters, we tried to check what happens if we do kFold cross validation, use in-built parameters or select only few features. We observed that none of these methods improved the performance of the modesl. We evaluated the model on the default model initially used and found that **coefficient of determination also called Rsquare score is 0.4929329680070461 and root mean squared error is 51.83774341914193.**"
      ],
      "metadata": {
        "id": "Xpi24Thy13H9"
      }
    }
  ],
  "metadata": {
    "colab": {
      "provenance": [],
      "toc_visible": true,
      "include_colab_link": true
    },
    "kernelspec": {
      "display_name": "Python 3",
      "name": "python3"
    },
    "language_info": {
      "name": "python"
    }
  },
  "nbformat": 4,
  "nbformat_minor": 0
}
