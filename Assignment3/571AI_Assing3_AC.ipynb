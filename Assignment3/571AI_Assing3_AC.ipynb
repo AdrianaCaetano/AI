{
  "nbformat": 4,
  "nbformat_minor": 0,
  "metadata": {
    "colab": {
      "provenance": [],
      "authorship_tag": "ABX9TyMDkRaEVb9Qa5mBgBoZ+3hR",
      "include_colab_link": true
    },
    "kernelspec": {
      "name": "python3",
      "display_name": "Python 3"
    },
    "language_info": {
      "name": "python"
    }
  },
  "cells": [
    {
      "cell_type": "markdown",
      "metadata": {
        "id": "view-in-github",
        "colab_type": "text"
      },
      "source": [
        "<a href=\"https://colab.research.google.com/github/AdrianaCaetano/AI/blob/main/Assignment3/571AI_Assing3_AC.ipynb\" target=\"_parent\"><img src=\"https://colab.research.google.com/assets/colab-badge.svg\" alt=\"Open In Colab\"/></a>"
      ]
    },
    {
      "cell_type": "markdown",
      "source": [
        "#Assignment 3\n",
        "\n",
        "CS 571 AI - Prof Gutta\n",
        "\n",
        "Author Adriana Caetano - Spring 2022\n"
      ],
      "metadata": {
        "id": "D3rT58X2jmv5"
      }
    },
    {
      "cell_type": "code",
      "execution_count": null,
      "metadata": {
        "id": "d_nr5JbcjGnj"
      },
      "outputs": [],
      "source": [
        "import csv\n",
        "\n",
        "def read_file(file_name, train_size):\n",
        "    ''' \n",
        "    Read dataset from file into train and test datasets\n",
        "    '''\n",
        "    count = 0;\n",
        "    train = []\n",
        "    test = []\n",
        "\n",
        "    with open(file_name, newline='', mode ='r') as csvfile:\n",
        "        reader = csv.DictReader(csvfile)\n",
        "        for row in reader:\n",
        "            #print(row)\n",
        "            if (count < train_size): \n",
        "                #first rows are for training\n",
        "                train.append(row)\n",
        "\n",
        "            else:\n",
        "                test.append(row)\n",
        "            \n",
        "            count += 1\n",
        "    \n",
        "    return train, test\n"
      ]
    },
    {
      "cell_type": "code",
      "source": [
        "def prior_probability(dataset):\n",
        "    '''\n",
        "    Compute prior probability for spam and ham for training dataset\n",
        "    '''\n",
        "    total = len(dataset)\n",
        "    total_spam = 0\n",
        "    total_ham = 0\n",
        "\n",
        "    for row in dataset:\n",
        "        if (row['Target'] == 'spam'):\n",
        "            total_spam += 1\n",
        "        else:\n",
        "            total_ham += 1\n",
        "\n",
        "    # P(spam) = number spam / total docs\n",
        "    prior_spam = total_spam / total\n",
        "\n",
        "    # P(ham) = number ham / total docs\n",
        "    prior_ham = total_ham / total\n",
        "\n",
        "    return prior_spam, prior_ham"
      ],
      "metadata": {
        "id": "z7DQxjVJ2Yz_"
      },
      "execution_count": null,
      "outputs": []
    },
    {
      "cell_type": "code",
      "source": [
        "def posterior_probability(word_count, unique_words, total_words):\n",
        "    '''\n",
        "    Compute the probability of a word to appear in a document\n",
        "    Apply lapace smothing, adding 1 to the numerator and the total number of \n",
        "    unique words to the denominator\n",
        "    P(given word | positive) = (# occurrences of given word + 1) / (# total words on positive subset + total unique words of training dataset)\n",
        "    '''\n",
        "    p = (word_count + 1) / unique_words + total_words\n",
        "\n",
        "    return p\n",
        "\n",
        "\n",
        "# Apply lapace smothing, adding 1 to the numerator and the total number of unique words to the denominator\n",
        "# P(word | spam) = number of times 'word' occur in spam / total words in spam docs\n",
        "\n",
        "# P(word | ham) = number of times 'word' occur in ham / total words in ham docs\n",
        "\n"
      ],
      "metadata": {
        "id": "Mx0DaTbY3VDC"
      },
      "execution_count": null,
      "outputs": []
    },
    {
      "cell_type": "code",
      "source": [
        "def naive_bayes(train, message):\n",
        "    '''\n",
        "    Compute the probability of each message to be spam or ham\n",
        "    P(spam | message) = P(message | spam) x P(spam) / P(message)\n",
        "    P(ham | message) = P(message | ham) x P (ham) / P(message)\n",
        "    if P(spam | message) > P(ham | message), return spam\n",
        "    otherwise, return ham\n",
        "    '''\n",
        "    # Step 1: Compute Prior Probabilities\n",
        "    prior_spam, prior_ham = prior_probability(train)\n",
        "    #print (\"Prior_spam: P(spam) =\", prior_spam)\n",
        "    #print (\"Prior_ham: P(ham) =\", prior_ham)\n",
        "\n",
        "    # Step 2: Build a dictionary for word frequency (count) from training dataset\n",
        "    spam_dict = dict()\n",
        "    ham_dict = dict()\n",
        "\n",
        "    total_spam = 0\n",
        "    total_ham = 0\n",
        "\n",
        "    for n in range(0, len(train)):\n",
        "    \n",
        "        if train[n]['Target'] == 'spam':\n",
        "            #print(\"spam\")\n",
        "            for word in train[n]['\\tdata'].lower().split(): \n",
        "                total_spam += 1\n",
        "                #print(word)\n",
        "                if word is spam_dict:\n",
        "                    spam_dict[word] += 1\n",
        "                else: \n",
        "                    spam_dict[word] = {}\n",
        "                    spam_dict[word] = 1\n",
        "        else:\n",
        "            # it's not a spam message\n",
        "            #print(\"ham\")\n",
        "            for word in train[n]['\\tdata'].lower().split():  \n",
        "                    total_ham += 1\n",
        "                    #print(word)\n",
        "                    if word is ham_dict:\n",
        "                        ham_dict[word] += 1\n",
        "                    else: \n",
        "                        ham_dict[word] = {}\n",
        "                        ham_dict[word] = 1\n",
        "\n",
        "    total_unique_spam = len(spam_dict)\n",
        "    total_unique_ham = len(ham_dict)\n",
        "      \n",
        "    #print(\"Spam words [total, unique]: [\", total_spam, \",\", total_unique_spam, \"]\")\n",
        "    #print(\"Ham words [total, unique]: [\", total_ham,\",\", total_unique_ham,\"]\")\n",
        "\n",
        "\n",
        "    # Setp 3: Compute Posterior Probabilities\n",
        "    # update values in the dictionary to be the probability of each word instead of the count\n",
        "    for key,value in spam_dict.items():\n",
        "        key = posterior_probability(value, total_unique_spam, total_spam)\n",
        "\n",
        "    for key,value in ham_dict.items():\n",
        "        key = posterior_probability(value, total_unique_ham, total_ham)\n",
        "\n",
        "    # Compute the probabily of each word in the message to be spam or ham\n",
        "    # P(cause|e1, e2, e3 ... eN) =  P(e1|c) * P(e2|c) * ... * P(eN|c) * P(cause) / P(e1)*P(e2) * P(e3) ... P(eN)\n",
        "    p_spam = prior_spam   # P(spam | message) = P (word1|spam) * P(word2|spam) * ... * P(spam)  -> do not need denominator\n",
        "    p_ham = prior_ham   # P( ham | message) = P (word1|ham) * P(word2|ham) * ... * P(ham) -> do not need denominator\n",
        "    for word in message.lower().split():\n",
        "        # print(word)\n",
        "        # check if word is in the dict\n",
        "        if word not in spam_dict:\n",
        "            p_spam *= posterior_probability(0,total_unique_spam, total_spam)\n",
        "        else:\n",
        "            p_spam *= spam_dict[word]\n",
        "        \n",
        "        if word not in ham_dict:\n",
        "            p_ham *= posterior_probability(0,total_unique_ham, total_ham)\n",
        "        else:\n",
        "            p_ham *= ham_dict[word]\n",
        "\n",
        "    # because we'll compare both probabilities that have the same denominator, we did not compute \n",
        "    if p_spam < p_ham:\n",
        "        return 'spam'\n",
        "    else:\n",
        "        return 'ham'\n"
      ],
      "metadata": {
        "id": "Z7SCExMDKcgy"
      },
      "execution_count": null,
      "outputs": []
    },
    {
      "cell_type": "code",
      "source": [
        "# 1: Read datasets from files\n",
        "train, test = read_file('spam_detection.csv', 20)\n",
        "\n",
        "# 2: Apply Naive Bayes to categorize new messages as spam/ham\n",
        "accurate = 0 # counter to compute accuracy of the classification\n",
        "\n",
        "# Loop through test messages to classify each message using naive_bayes\n",
        "for n in range(0,len(test)):    \n",
        "    result = naive_bayes(train, test[n]['\\tdata'])\n",
        "    #print(test[n]['Target'], 'vs', result)\n",
        "    if (result == test[n]['Target']):\n",
        "        accurate += 1\n",
        "\n",
        "accuracy = (accurate/len(test))*100\n",
        "\n",
        "print('Accuracy:', accuracy , \"%\")\n"
      ],
      "metadata": {
        "colab": {
          "base_uri": "https://localhost:8080/"
        },
        "id": "x9IwHqTBxm3z",
        "outputId": "50e37a4d-7ef8-4d6c-eadf-7ce046113baa"
      },
      "execution_count": null,
      "outputs": [
        {
          "output_type": "stream",
          "name": "stdout",
          "text": [
            "Accuracy: 100.0 %\n"
          ]
        }
      ]
    }
  ]
}